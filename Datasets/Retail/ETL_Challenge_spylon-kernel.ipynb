{
 "cells": [
  {
   "cell_type": "markdown",
   "metadata": {
    "id": "Rlqs-0K1tvO7"
   },
   "source": [
    "# ETL Technical Challenge\n",
    "\n",
    "## Overview\n",
    "\n",
    "Our client wants to set up a source of product order information and he has provided a small set of information that represents less than 3% to process. \n",
    "\n",
    "The information is in a .csv format file and has the following characteristics: \n",
    "\n",
    "* ORDER_ID               : OrderID\n",
    "* USER_ID                : UserID\n",
    "* ORDER_NUMBER           : Order Number\n",
    "* ORDER_DOW              : Day of the week the order was placed (0-6 with 0 being Sunday and 6 being Saturday)\n",
    "* ORDER_HOUR_OF_DAY      : Time the order was placed (00-23 hours format) \n",
    "* DAYS_SINCE_PRIOR_ORDER : Days since last order\n",
    "* ORDER_DETAIL           : Order details - Complex column"
   ]
  },
  {
   "cell_type": "markdown",
   "metadata": {
    "id": "VMIqIvLG8EOP"
   },
   "source": [
    "## Challenge\n",
    "\n",
    "### Programming Language\n",
    "Complete the following tasks using Python/Pyspark/Scala and SQL\n",
    "\n",
    "### Test Aids\n",
    "\n",
    "The following test aids will be available to be used by interviewees during the challenge:\n",
    "* Apache Spark API documentation. e.g. https://spark.apache.org/docs/latest/api/scala/org/apache/spark/index.html\n",
    "* A digital notepad to use during the active challenge time\n",
    "\n",
    "To use scala notation be sure to install https://pypi.org/project/spylon-kernel/ in your jupyter notebook"
   ]
  },
  {
   "cell_type": "markdown",
   "metadata": {
    "id": "xN1ChdQMWnq0"
   },
   "source": [
    "### Task 1: Download the data and read the CSV file\n",
    "The files are located at __[sample-datasets/tree/main/Datasets/Retail/OrderDetails](https://github.com/spunkjockey/sample-datasets/tree/main/Datasets/Retail/OrderDetails)__\n",
    "\n",
    "In that location you will find 5 files in with ##.csv naming convention "
   ]
  },
  {
   "cell_type": "code",
   "execution_count": 1,
   "metadata": {},
   "outputs": [
    {
     "data": {
      "text/html": [
       "<style>\n",
       "div.output_area pre {\n",
       "    white-space: pre;\n",
       "}\n",
       "</style>"
      ],
      "text/plain": [
       "<IPython.core.display.HTML object>"
      ]
     },
     "metadata": {},
     "output_type": "display_data"
    }
   ],
   "source": [
    "%%html\n",
    "<style>\n",
    "div.output_area pre {\n",
    "    white-space: pre;\n",
    "}\n",
    "</style>"
   ]
  },
  {
   "cell_type": "code",
   "execution_count": 5,
   "metadata": {
    "colab": {
     "base_uri": "https://localhost:8080/",
     "height": 203
    },
    "id": "MGfCfx2KWxnW",
    "outputId": "9ef799fe-dbb6-4678-e685-b55ced1da516"
   },
   "outputs": [
    {
     "name": "stdout",
     "output_type": "stream",
     "text": [
      "root\n",
      " |-- ORDER_ID: string (nullable = true)\n",
      " |-- USER_ID: string (nullable = true)\n",
      " |-- ORDER_NUMBER: string (nullable = true)\n",
      " |-- ORDER_DOW: string (nullable = true)\n",
      " |-- ORDER_HOUR_OF_DAY: string (nullable = true)\n",
      " |-- DAYS_SINCE_PRIOR_ORDER: string (nullable = true)\n",
      " |-- ORDER_DETAIL: string (nullable = true)\n",
      "\n",
      "+--------+-------+------------+---------+-----------------+----------------------+--------------------+\n",
      "|ORDER_ID|USER_ID|ORDER_NUMBER|ORDER_DOW|ORDER_HOUR_OF_DAY|DAYS_SINCE_PRIOR_ORDER|        ORDER_DETAIL|\n",
      "+--------+-------+------------+---------+-----------------+----------------------+--------------------+\n",
      "| 1000867| 198377|           5|        0|               14|                   9.0|Triscuit Baked Wh...|\n",
      "|  100258| 156548|          29|        0|               23|                  15.0|Stage 2 Spinach, ...|\n",
      "| 1003556|   4233|           4|        0|               09|                   6.0|Gluten Free Rigat...|\n",
      "| 1006312|   7861|           7|        0|               12|                  30.0|Condensed Cream o...|\n",
      "| 1014295| 144587|           6|        0|               09|                   8.0|Pure Irish Butter...|\n",
      "+--------+-------+------------+---------+-----------------+----------------------+--------------------+\n",
      "only showing top 5 rows\n",
      "\n"
     ]
    },
    {
     "data": {
      "text/plain": [
       "df: org.apache.spark.sql.DataFrame = [ORDER_ID: string, USER_ID: string ... 5 more fields]\r\n"
      ]
     },
     "execution_count": 5,
     "metadata": {},
     "output_type": "execute_result"
    }
   ],
   "source": [
    "// Your code here\n",
    "\n",
    "val df = \n",
    "\n",
    "df.printSchema()\n",
    "df.show(5, true)"
   ]
  },
  {
   "cell_type": "markdown",
   "metadata": {
    "id": "cBy7Bsux09G7"
   },
   "source": [
    "### Task 2: Examine the data\n",
    "Some cases have been detected where some fields do not come in the expected way (format)."
   ]
  },
  {
   "cell_type": "code",
   "execution_count": 6,
   "metadata": {
    "id": "SXg5ISoe1J6x"
   },
   "outputs": [
    {
     "name": "stdout",
     "output_type": "stream",
     "text": [
      "+-------+------------------+------------------+------------------+------------------+------------------+----------------------+--------------------+\n",
      "|summary|          ORDER_ID|           USER_ID|      ORDER_NUMBER|         ORDER_DOW| ORDER_HOUR_OF_DAY|DAYS_SINCE_PRIOR_ORDER|        ORDER_DETAIL|\n",
      "+-------+------------------+------------------+------------------+------------------+------------------+----------------------+--------------------+\n",
      "|  count|             96621|             96621|             96621|             96621|             96621|                 96621|               96621|\n",
      "|   mean|1702577.4488568737|103264.79841856325|16.593701162273213|2.0985403726708074|13.562010329017502|    17.069684644124983|                null|\n",
      "| stddev| 989772.4043434119| 59523.63048397165|16.666549931929076| 1.900862306965445| 4.197965169213547|    10.668558054364093|                null|\n",
      "|    min|                 1|                 1|                10|                 0|                00|                   0.0|\"\"\"Constant Comme...|\n",
      "|    max|            999985|             99996|                99|           Tuesday|                24|                   9.0|with Xylitol Wate...|\n",
      "+-------+------------------+------------------+------------------+------------------+------------------+----------------------+--------------------+\n",
      "\n"
     ]
    }
   ],
   "source": [
    "// Your code here\n"
   ]
  },
  {
   "cell_type": "code",
   "execution_count": 25,
   "metadata": {},
   "outputs": [
    {
     "name": "stdout",
     "output_type": "stream",
     "text": [
      "+--------+-------+------------+---------+-----------------+----------------------+--------------------+------------+\n",
      "|ORDER_ID|USER_ID|ORDER_NUMBER|ORDER_DOW|ORDER_HOUR_OF_DAY|DAYS_SINCE_PRIOR_ORDER|        ORDER_DETAIL|ORDER_DOW_DQ|\n",
      "+--------+-------+------------+---------+-----------------+----------------------+--------------------+------------+\n",
      "| 1000867| 198377|           5|        0|               14|                   9.0|Triscuit Baked Wh...|        null|\n",
      "|  100258| 156548|          29|        0|               23|                  15.0|Stage 2 Spinach, ...|        null|\n",
      "| 1003556|   4233|           4|        0|               09|                   6.0|Gluten Free Rigat...|        null|\n",
      "| 1006312|   7861|           7|        0|               12|                  30.0|Condensed Cream o...|        null|\n",
      "| 1014295| 144587|           6|        0|               09|                   8.0|Pure Irish Butter...|        null|\n",
      "+--------+-------+------------+---------+-----------------+----------------------+--------------------+------------+\n",
      "only showing top 5 rows\n",
      "\n"
     ]
    },
    {
     "data": {
      "text/plain": [
       "df1: org.apache.spark.sql.DataFrame = [ORDER_ID: string, USER_ID: string ... 6 more fields]\r\n"
      ]
     },
     "execution_count": 25,
     "metadata": {},
     "output_type": "execute_result"
    }
   ],
   "source": [
    "// Identify invalid ORDER_DOW (valid values must be between 0 and 6) and create ORDER_DOW_DQ to mark the errored records\n",
    "val df1 = \n",
    "\n",
    "df1.show(5)"
   ]
  },
  {
   "cell_type": "code",
   "execution_count": 28,
   "metadata": {},
   "outputs": [
    {
     "name": "stdout",
     "output_type": "stream",
     "text": [
      "+--------+-------+------------+---------+-----------------+----------------------+--------------------+------------+--------------------+\n",
      "|ORDER_ID|USER_ID|ORDER_NUMBER|ORDER_DOW|ORDER_HOUR_OF_DAY|DAYS_SINCE_PRIOR_ORDER|        ORDER_DETAIL|ORDER_DOW_DQ|ORDER_HOUR_OF_DAY_DQ|\n",
      "+--------+-------+------------+---------+-----------------+----------------------+--------------------+------------+--------------------+\n",
      "| 1000867| 198377|           5|        0|               14|                   9.0|Triscuit Baked Wh...|        null|                null|\n",
      "|  100258| 156548|          29|        0|               23|                  15.0|Stage 2 Spinach, ...|        null|                null|\n",
      "| 1003556|   4233|           4|        0|               09|                   6.0|Gluten Free Rigat...|        null|                null|\n",
      "| 1006312|   7861|           7|        0|               12|                  30.0|Condensed Cream o...|        null|                null|\n",
      "| 1014295| 144587|           6|        0|               09|                   8.0|Pure Irish Butter...|        null|                null|\n",
      "+--------+-------+------------+---------+-----------------+----------------------+--------------------+------------+--------------------+\n",
      "only showing top 5 rows\n",
      "\n"
     ]
    },
    {
     "data": {
      "text/plain": [
       "import org.apache.spark.sql.types._\r\n",
       "df2: org.apache.spark.sql.DataFrame = [ORDER_ID: string, USER_ID: string ... 7 more fields]\r\n"
      ]
     },
     "execution_count": 28,
     "metadata": {},
     "output_type": "execute_result"
    }
   ],
   "source": [
    "// Identify invalid ORDER_HOUR_OF_DAY (valid values must be between 0 and 23) and create ORDER_HOUR_OF_DAY_DQ to mark the errored records\n",
    "val df2 = \n",
    "df2.show(5)"
   ]
  },
  {
   "cell_type": "code",
   "execution_count": 37,
   "metadata": {},
   "outputs": [
    {
     "name": "stdout",
     "output_type": "stream",
     "text": [
      "+--------+-------+------------+---------+-----------------+----------------------+--------------------+\n",
      "|ORDER_ID|USER_ID|ORDER_NUMBER|ORDER_DOW|ORDER_HOUR_OF_DAY|DAYS_SINCE_PRIOR_ORDER|        ORDER_DETAIL|\n",
      "+--------+-------+------------+---------+-----------------+----------------------+--------------------+\n",
      "| 1000867| 198377|           5|        0|               14|                   9.0|Triscuit Baked Wh...|\n",
      "|  100258| 156548|          29|        0|               23|                  15.0|Stage 2 Spinach, ...|\n",
      "| 1003556|   4233|           4|        0|               09|                   6.0|Gluten Free Rigat...|\n",
      "| 1006312|   7861|           7|        0|               12|                  30.0|Condensed Cream o...|\n",
      "| 1014295| 144587|           6|        0|               09|                   8.0|Pure Irish Butter...|\n",
      "+--------+-------+------------+---------+-----------------+----------------------+--------------------+\n",
      "only showing top 5 rows\n",
      "\n",
      "+--------+-------+------------+---------+-----------------+----------------------+--------------------+------------+--------------------+\n",
      "|ORDER_ID|USER_ID|ORDER_NUMBER|ORDER_DOW|ORDER_HOUR_OF_DAY|DAYS_SINCE_PRIOR_ORDER|        ORDER_DETAIL|ORDER_DOW_DQ|ORDER_HOUR_OF_DAY_DQ|\n",
      "+--------+-------+------------+---------+-----------------+----------------------+--------------------+------------+--------------------+\n",
      "|  733419|  14689|          85|        0|               24|                   2.0|MyKind Organic Pl...|        null|                   X|\n",
      "|  433993| 106435|          17|   Friday|               23|                  13.0|Ultra Comfort Car...|           X|                null|\n",
      "|  994659|  44121|           5|   Friday|               09|                  30.0|Whole Organic Ome...|           X|                null|\n",
      "|  316671| 101999|           5|   Friday|               13|                  30.0|Original Taco Sea...|           X|                null|\n",
      "|  541989| 162972|          15|   Friday|               18|                  30.0|Organic Peeled Wh...|           X|                null|\n",
      "+--------+-------+------------+---------+-----------------+----------------------+--------------------+------------+--------------------+\n",
      "only showing top 5 rows\n",
      "\n"
     ]
    },
    {
     "data": {
      "text/plain": [
       "successDF: org.apache.spark.sql.DataFrame = [ORDER_ID: string, USER_ID: string ... 5 more fields]\r\n",
       "failureDF: org.apache.spark.sql.Dataset[org.apache.spark.sql.Row] = [ORDER_ID: string, USER_ID: string ... 7 more fields]\r\n"
      ]
     },
     "execution_count": 37,
     "metadata": {},
     "output_type": "execute_result"
    }
   ],
   "source": [
    "// Split the df in two different dataframes successDF and failureDF\n",
    "// For successDF drop *_DQ columns just created\n",
    "val successDF =\n",
    "successDF.show(5)\n",
    "\n",
    "val failureDF =\n",
    "failureDF.show(5)"
   ]
  },
  {
   "cell_type": "code",
   "execution_count": 3,
   "metadata": {},
   "outputs": [
    {
     "data": {
      "text/plain": [
       "path: String = order_detail/failure\r\n"
      ]
     },
     "execution_count": 3,
     "metadata": {},
     "output_type": "execute_result"
    }
   ],
   "source": [
    "// write failureDF in parquet format in the following path order_detail/failure\n",
    "val path: String = \"order_detail/failure\"\n"
   ]
  },
  {
   "cell_type": "markdown",
   "metadata": {
    "id": "Vifw_D0IsTA7"
   },
   "source": [
    "### Task 3: Parse the ORDER_DETAIL column\n",
    "\n",
    "* Each order detail is separated by the tilde symbol (~)\n",
    "* The order detail has the following struct separeted by the pipe symbol (|): Product|Aisles|Products Sold\n",
    "\n",
    "e.g.\n",
    "```\n",
    "+--------+---------------------------------+\n",
    "|order_id|order_detail                     |\n",
    "+--------+---------------------------------+\n",
    "|100     |banana|fruits|5~apple|fruits|10  |\n",
    "|102     |nutter butter cookies|crackers|6 |\n",
    "+--------+---------------------------------+\n",
    "```\n",
    "\n",
    "\n",
    "The user has provided an example of the expected detail:"
   ]
  },
  {
   "cell_type": "markdown",
   "metadata": {
    "id": "5qpT5-g7roUO"
   },
   "source": [
    "![image.png](data:image/png;base64,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)"
   ]
  },
  {
   "cell_type": "code",
   "execution_count": 45,
   "metadata": {
    "id": "OS3zFVr248He"
   },
   "outputs": [
    {
     "data": {
      "text/plain": [
       "orderDetailsDF: org.apache.spark.sql.DataFrame = [ORDER_ID: bigint, USER_ID: bigint ... 7 more fields]\r\n"
      ]
     },
     "execution_count": 45,
     "metadata": {},
     "output_type": "execute_result"
    }
   ],
   "source": [
    "/** Your code here **/\n",
    "\n",
    "val orderDetailsDF = "
   ]
  },
  {
   "cell_type": "markdown",
   "metadata": {
    "id": "C44hZFBjwWvx"
   },
   "source": [
    "### Task 4: Perform a count of rows\n",
    "To validate if the the table was sucesfully parsed we are required to count the total of rows, please use the below code as an example"
   ]
  },
  {
   "cell_type": "code",
   "execution_count": 47,
   "metadata": {
    "colab": {
     "base_uri": "https://localhost:8080/",
     "height": 80
    },
    "id": "uDGgB0XfYMes",
    "outputId": "c87446e3-8bc6-423f-f55a-9f0ff28b6e93"
   },
   "outputs": [
    {
     "name": "stdout",
     "output_type": "stream",
     "text": [
      "+-------+------------------+------------------+------------------+------------------+------------------+----------------------+--------------------+--------------------+-----------------+\n",
      "|summary|          ORDER_ID|           USER_ID|      ORDER_NUMBER|         ORDER_DOW| ORDER_HOUR_OF_DAY|DAYS_SINCE_PRIOR_ORDER|             PRODUCT|              AISLES|    PRODUCTS_SOLD|\n",
      "+-------+------------------+------------------+------------------+------------------+------------------+----------------------+--------------------+--------------------+-----------------+\n",
      "|  count|           1021460|           1021460|           1021460|           1021460|           1021460|               1021460|             1021460|             1021303|          1020722|\n",
      "|   mean|1705575.4179449023|103237.51440976642|17.064443052101893|1.9871899046462906|13.542067237092006|     17.08249270651812|   995.8888888888889|                null|7.501021825727279|\n",
      "| stddev| 989564.6664421173| 59430.34767183011|16.604532347247897|1.9059939267941328| 4.211324326810761|    10.425871213966925|  378.78339603408057|                null|4.030865804112953|\n",
      "|    min|                 1|                 1|                 4|                 0|                 0|                   0.0|\"\"\"Constant Comme...|air fresheners ca...|                1|\n",
      "|    max|           3421063|            206205|               100|                 5|                23|                  30.0|with a Splash of ...|              yogurt|               14|\n",
      "+-------+------------------+------------------+------------------+------------------+------------------+----------------------+--------------------+--------------------+-----------------+\n",
      "\n"
     ]
    }
   ],
   "source": [
    "/** Your code here expected result = 1021460 rows*/\n"
   ]
  },
  {
   "cell_type": "markdown",
   "metadata": {
    "id": "lDjUPIg29Vqn"
   },
   "source": [
    "### Task 5: Analize\n",
    "The customer wants to have the details of each product processed by each order. Identify the following:\n",
    "1. The comparison between the aisles with the most products versus the best-selling product"
   ]
  },
  {
   "cell_type": "code",
   "execution_count": null,
   "metadata": {
    "id": "023kmHxa9YDD"
   },
   "outputs": [],
   "source": [
    "/* Your code here */"
   ]
  },
  {
   "cell_type": "markdown",
   "metadata": {},
   "source": [
    "2. The top ten best selling products"
   ]
  },
  {
   "cell_type": "code",
   "execution_count": null,
   "metadata": {},
   "outputs": [],
   "source": [
    "/* Your code here */"
   ]
  },
  {
   "cell_type": "markdown",
   "metadata": {},
   "source": [
    "3. The days of the week with the highest number of orders processed\n",
    "```Sql\n",
    "  SELECT ORDER_DOW, COUNT(DISTINCT ORDER_ID) AS ORDERS\n",
    "    FROM ORDER_DETAILS\n",
    "GROUP BY ORDER_DOW\n",
    "ORDER BY ORDERS DESC\n",
    "```"
   ]
  },
  {
   "cell_type": "code",
   "execution_count": null,
   "metadata": {},
   "outputs": [],
   "source": [
    "/* Your code here */"
   ]
  },
  {
   "cell_type": "markdown",
   "metadata": {},
   "source": [
    "4. View the number of orders per day and hour\n",
    "```Sql\n",
    "SELECT * FROM (\n",
    "  SELECT ORDER_DOW, ORDER_HOUR_OF_DAY, COUNT(DISTINCT ORDER_ID) AS ORDERS\n",
    "    FROM ORDER_DETAILS\n",
    "GROUP BY ORDER_DOW, ORDER_HOUR_OF_DAY)\n",
    "   PIVOT SUM(ORDERS) FOR ORDER_DOW in ('0' as \"Sunday\", '1' as \"Monday\", ... '6' as \"Saturday\")\n",
    "ORDER BY 1\n",
    "```"
   ]
  },
  {
   "cell_type": "code",
   "execution_count": null,
   "metadata": {},
   "outputs": [],
   "source": [
    "/* Your code here */"
   ]
  }
 ],
 "metadata": {
  "colab": {
   "collapsed_sections": [],
   "name": "ETL Test.ipynb",
   "provenance": [],
   "toc_visible": true
  },
  "kernelspec": {
   "display_name": "spylon-kernel",
   "language": "scala",
   "name": "spylon-kernel"
  },
  "language_info": {
   "codemirror_mode": "text/x-scala",
   "file_extension": ".scala",
   "help_links": [
    {
     "text": "MetaKernel Magics",
     "url": "https://metakernel.readthedocs.io/en/latest/source/README.html"
    }
   ],
   "mimetype": "text/x-scala",
   "name": "scala",
   "pygments_lexer": "scala",
   "version": "0.4.1"
  }
 },
 "nbformat": 4,
 "nbformat_minor": 1
}
